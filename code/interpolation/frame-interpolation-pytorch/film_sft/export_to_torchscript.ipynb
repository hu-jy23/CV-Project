{
 "cells": [
  {
   "cell_type": "code",
   "execution_count": 2,
   "id": "2428242c",
   "metadata": {},
   "outputs": [
    {
     "name": "stderr",
     "output_type": "stream",
     "text": [
      "d:\\Projects\\CV-Project\\code\\interpolation\\frame-interpolation-pytorch\\film_sft\\util.py:78: TracerWarning: torch.tensor results are registered as constants in the trace. You can safely ignore this warning if you use this function to create tensors out of constant variables that would be the same every time you call this function. In any other case, this might cause the trace to be incorrect.\n",
      "  normalized_flow2 = flow.permute(0, 2, 3, 1) / torch.tensor(\n",
      "d:\\Projects\\CV-Project\\code\\interpolation\\frame-interpolation-pytorch\\film_sft\\util.py:78: TracerWarning: Converting a tensor to a Python float might cause the trace to be incorrect. We can't record the data flow of Python values, so this value will be treated as a constant in the future. This means that the trace might not generalize to other inputs!\n",
      "  normalized_flow2 = flow.permute(0, 2, 3, 1) / torch.tensor(\n"
     ]
    },
    {
     "name": "stdout",
     "output_type": "stream",
     "text": [
      "✅ Exported to TorchScript: film_sft_last.pt\n"
     ]
    }
   ],
   "source": [
    "# export_to_torchscript.py\n",
    "\n",
    "import torch\n",
    "from interpolator import Interpolator\n",
    "\n",
    "# ==== 路径设置 ====\n",
    "ckpt_path = \"film_epoch10.pth\"     # 请确保路径正确\n",
    "export_path = \"film_sft_last.pt\"\n",
    "device = torch.device(\"cuda\" if torch.cuda.is_available() else \"cpu\")\n",
    "\n",
    "\n",
    "model = Interpolator().to(device)\n",
    "# ==== 构造模型结构 ====\n",
    "#model = load_model_from_pth(pth_path=None, device=device)  # 注意：我们先只加载结构\n",
    "\n",
    "# ==== 加载 checkpoint ====\n",
    "state_dict = torch.load(ckpt_path, map_location=device)\n",
    "model.load_state_dict(state_dict)\n",
    "model.eval()\n",
    "\n",
    "# ==== 模拟一次前向输入以 trace 模型 ====\n",
    "dummy_x0 = torch.rand(1, 3, 512, 512).to(device)\n",
    "dummy_x1 = torch.rand(1, 3, 512, 512).to(device)\n",
    "dummy_dt = torch.tensor([[0.5]], dtype=torch.float32).to(device)\n",
    "\n",
    "with torch.no_grad():\n",
    "    traced = torch.jit.trace(model, (dummy_x0, dummy_x1, dummy_dt))\n",
    "\n",
    "# ==== 保存 TorchScript 模型 ====\n",
    "traced.save(export_path)\n",
    "print(f\"✅ Exported to TorchScript: {export_path}\")\n"
   ]
  }
 ],
 "metadata": {
  "kernelspec": {
   "display_name": "frame_interpolation",
   "language": "python",
   "name": "python3"
  },
  "language_info": {
   "codemirror_mode": {
    "name": "ipython",
    "version": 3
   },
   "file_extension": ".py",
   "mimetype": "text/x-python",
   "name": "python",
   "nbconvert_exporter": "python",
   "pygments_lexer": "ipython3",
   "version": "3.9.21"
  }
 },
 "nbformat": 4,
 "nbformat_minor": 5
}
