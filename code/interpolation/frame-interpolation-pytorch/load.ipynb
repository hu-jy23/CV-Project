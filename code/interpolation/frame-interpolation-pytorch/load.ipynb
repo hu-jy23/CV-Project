{
 "cells": [
  {
   "cell_type": "code",
   "execution_count": 1,
   "id": "18074508",
   "metadata": {},
   "outputs": [
    {
     "data": {
      "text/plain": [
       "====================================================================================================\n",
       "Layer (type:depth-idx)                             Output Shape              Param #\n",
       "====================================================================================================\n",
       "Interpolator                                       --                        --\n",
       "├─FeatureExtractor: 1-1                            --                        --\n",
       "│    └─SubTreeExtractor: 2-1                       --                        --\n",
       "│    │    └─ModuleList: 3-1                        --                        --\n",
       "│    │    │    └─Sequential: 4-1                   --                        38,720\n",
       "│    │    │    └─Sequential: 4-2                   --                        221,440\n",
       "│    │    │    └─Sequential: 4-3                   --                        885,248\n",
       "│    │    │    └─Sequential: 4-4                   --                        3,539,968\n",
       "├─PyramidFlowEstimator: 1-2                        --                        --\n",
       "│    └─FlowEstimator: 2-2                          --                        --\n",
       "│    │    └─ModuleList: 3-2                        --                        --\n",
       "│    │    │    └─Conv2d: 4-5                       --                        4,423,936\n",
       "│    │    │    └─Conv2d: 4-6                       --                        590,080\n",
       "│    │    │    └─Conv2d: 4-7                       --                        590,080\n",
       "│    │    │    └─Conv2d: 4-8                       --                        32,896\n",
       "│    │    │    └─Conv2d: 4-9                       --                        258\n",
       "│    └─ModuleList: 2-3                             --                        --\n",
       "│    │    └─FlowEstimator: 3-3                     --                        --\n",
       "│    │    │    └─ModuleList: 4-10                  --                        1,335,874\n",
       "│    │    └─FlowEstimator: 3-4                     --                        --\n",
       "│    │    │    └─ModuleList: 4-11                  --                        297,250\n",
       "│    │    └─FlowEstimator: 3-5                     --                        --\n",
       "│    │    │    └─ModuleList: 4-12                  --                        55,954\n",
       "├─Fusion: 1-3                                      --                        --\n",
       "│    └─Conv2d: 2-4                                 --                        195\n",
       "│    └─ModuleList: 2-5                             --                        --\n",
       "│    │    └─ModuleList: 3-6                        --                        --\n",
       "│    │    │    └─Conv2d: 4-13                      --                        3,953,152\n",
       "│    │    │    └─Conv2d: 4-14                      --                        11,253,248\n",
       "│    │    │    └─Conv2d: 4-15                      --                        2,359,808\n",
       "│    │    └─ModuleList: 3-7                        --                        --\n",
       "│    │    │    └─Conv2d: 4-16                      --                        524,544\n",
       "│    │    │    └─Conv2d: 4-17                      --                        2,677,504\n",
       "│    │    │    └─Conv2d: 4-18                      --                        590,080\n",
       "│    │    └─ModuleList: 3-8                        --                        --\n",
       "│    │    │    └─Conv2d: 4-19                      --                        131,200\n",
       "│    │    │    └─Conv2d: 4-20                      --                        601,472\n",
       "│    │    │    └─Conv2d: 4-21                      --                        147,584\n",
       "│    │    └─ModuleList: 3-9                        --                        --\n",
       "│    │    │    └─Conv2d: 4-22                      --                        32,832\n",
       "│    │    │    └─Conv2d: 4-23                      --                        116,416\n",
       "│    │    │    └─Conv2d: 4-24                      --                        36,928\n",
       "====================================================================================================\n",
       "Total params: 34,436,667\n",
       "Trainable params: 34,436,667\n",
       "Non-trainable params: 0\n",
       "Total mult-adds (Units.MEGABYTES): 0\n",
       "====================================================================================================\n",
       "Input size (MB): 6.29\n",
       "Forward/backward pass size (MB): 0.00\n",
       "Params size (MB): 137.75\n",
       "Estimated Total Size (MB): 144.04\n",
       "===================================================================================================="
      ]
     },
     "execution_count": 1,
     "metadata": {},
     "output_type": "execute_result"
    }
   ],
   "source": [
    "\n",
    "from torchinfo import summary\n",
    "import torch\n",
    "\n",
    "model = torch.jit.load(\"model/film_style.pt\", map_location=\"cpu\").eval()\n",
    "\n",
    "# 构造虚拟输入张量\n",
    "x0 = torch.rand(1, 3, 512, 512)\n",
    "x1 = torch.rand(1, 3, 512, 512)\n",
    "dt = torch.tensor([[0.5]], dtype=torch.float32)\n",
    "\n",
    "# summary 默认只支持 1 个输入，因此我们构造 tuple\n",
    "summary(model, input_data=(x0, x1, dt), depth=4)\n"
   ]
  }
 ],
 "metadata": {
  "kernelspec": {
   "display_name": "DL",
   "language": "python",
   "name": "python3"
  },
  "language_info": {
   "codemirror_mode": {
    "name": "ipython",
    "version": 3
   },
   "file_extension": ".py",
   "mimetype": "text/x-python",
   "name": "python",
   "nbconvert_exporter": "python",
   "pygments_lexer": "ipython3",
   "version": "3.12.9"
  }
 },
 "nbformat": 4,
 "nbformat_minor": 5
}
