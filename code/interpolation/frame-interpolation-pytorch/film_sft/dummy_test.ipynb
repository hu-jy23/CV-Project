{
 "cells": [
  {
   "cell_type": "code",
   "execution_count": 1,
   "id": "b205a107",
   "metadata": {},
   "outputs": [],
   "source": [
    "from PIL import Image\n",
    "import os\n",
    "import numpy as np\n",
    "\n",
    "os.makedirs(\"train_data/scene_dummy\", exist_ok=True)\n",
    "for name in [\"frame_0\", \"frame_t\", \"frame_1\"]:\n",
    "    img = Image.fromarray((np.random.rand(512, 512) * 255).astype(np.uint8))\n",
    "    img.save(f\"train_data/scene_dummy/{name}.png\")\n"
   ]
  }
 ],
 "metadata": {
  "kernelspec": {
   "display_name": "DL",
   "language": "python",
   "name": "python3"
  },
  "language_info": {
   "codemirror_mode": {
    "name": "ipython",
    "version": 3
   },
   "file_extension": ".py",
   "mimetype": "text/x-python",
   "name": "python",
   "nbconvert_exporter": "python",
   "pygments_lexer": "ipython3",
   "version": "3.12.9"
  }
 },
 "nbformat": 4,
 "nbformat_minor": 5
}
